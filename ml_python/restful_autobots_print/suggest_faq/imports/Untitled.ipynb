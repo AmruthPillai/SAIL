{
 "cells": [
  {
   "cell_type": "code",
   "execution_count": 1,
   "metadata": {
    "collapsed": true
   },
   "outputs": [],
   "source": [
    "class predictions():\n",
    "    \n",
    "    def __init__(self):\n",
    "        self.vectors = vectorizer()\n",
    "        \n",
    "    #get the vector for predictions\n",
    "    def get_predict_vector(self,string):\n",
    "        return self.vectors.reVectorize(self.vectors.dialogue_act_features(string))\n",
    "    \n",
    "    def get_val_for_index(self,array):\n",
    "        for i in array:\n",
    "            www = self.index_to_val[i]\n",
    "        return www\n",
    "    \n",
    "    def predict(self,string):\n",
    "        vector = self.get_predict_vector(string)\n",
    "        res = self.clf.predict(vector)\n",
    "        return self.get_val_for_index(res)\n",
    "    \n",
    "    def learn(self,x):\n",
    "        temp = self.vectors.train_gen(x)\n",
    "        X = self.vectors.vectorize(temp['x'])\n",
    "        Y,self.index_to_val = dict_builder(temp['y'])\n",
    "        self.clf = LinearSVC().fit(X, Y)\n",
    "    def learn_from_db(self,x,xy_list):\n",
    "        temp = self.vectors.train_gen(x)\n",
    "        for i in xy_list['x']:\n",
    "            temp['x'].append(i)\n",
    "        for i in xy_list['y']:\n",
    "            temp['y'].append(i)\n",
    "        X = self.vectors.vectorize(temp['x'])\n",
    "        Y,self.index_to_val = dict_builder(temp['y'])\n",
    "        self.clf = LinearSVC().fit(X, Y)"
   ]
  },
  {
   "cell_type": "code",
   "execution_count": 2,
   "metadata": {
    "collapsed": true
   },
   "outputs": [],
   "source": [
    "#NLTK IMPORTS\n",
    "import nltk\n",
    "from nltk.corpus import stopwords\n",
    "\n",
    "\n",
    "#PATTERNS\n",
    "from pattern.en import parsetree\n",
    "from pattern.en import tenses, PAST, PL\n",
    "\n",
    "#IMPORTING STUFF\n",
    "from sklearn.feature_extraction import DictVectorizer\n",
    "from sklearn.feature_extraction.text import TfidfVectorizer\n",
    "\n",
    "\n",
    "#SCIKIT-LEARN IMPORTS\n",
    "from sklearn.svm import LinearSVC\n",
    "\n",
    "\n",
    "class vectorizer():\n",
    "\tdef __init__(self):\n",
    "\t\tself.stopwords = stopwords.words('english')\n",
    "\t\tself.vec = DictVectorizer()\n",
    "        \n",
    "\tdef tenseses(self,strs):\n",
    "\t\tif 'present' in str(tenses(strs)):\n",
    "\t\t    ten = 'PRESENT'\n",
    "\t\telif 'past' in tenses(strs):\n",
    "\t\t    ten = \"PAST\"\n",
    "\t\telse:\n",
    "\t\t    ten = \"FUTURE\"\n",
    "\t\treturn ten\n",
    "\n",
    "\tdef dialogue_act_features(self,post):\n",
    "\t\tstop = nltk.word_tokenize(post)\n",
    "\t\tpost = []\n",
    "\t\tfor i in stop:\n",
    "\t\t    if i not in self.stopwords:\n",
    "\t\t\tpost.append(i)\n",
    "\t\t    else:\n",
    "\t\t\tpass\n",
    "\t\t\t#regect_list.append(i)\n",
    "\t\tposts = \"\"\n",
    "\t\tfor i in post:\n",
    "\t\t    posts += i\n",
    "\t\t    posts += \" \"\n",
    "\t\tprocessed = parsetree(posts, relations=True, lemmata=True)\n",
    "\t\tfeatures = {}\n",
    "\t\tfor sents in processed:\n",
    "\t\t    x = sents\n",
    "\t\t    for i in x.chunks:\n",
    "\t\t\tj = i.pos\n",
    "\t\t\tif j == \"VP\":\n",
    "\t\t\t    tense = self.tenseses(i.string)\n",
    "\t\t\telse:\n",
    "\t\t\t    tense = \"\"\n",
    "\t\t\th = i.words\n",
    "\t\t\tfor words in h:\n",
    "\t\t\t    apd_str =  str(words.lemma) +\"-\"+ str(words.pos)\n",
    "\t\t\t    #+ \"-\" +tense\n",
    "\t\t\t    #if words.pos[:1] == \"NN\" or words.pos[:1] == \"VP\":\n",
    "\t\t\t    features['word({})'.format(str(words.lemma))] =  str(words.pos)\n",
    "\t\t\t#pos['features({})'.format(j)] = True\n",
    "\t\t    return features\n",
    "\tdef vectorize(self,feat_list):\n",
    "\t\tpos_vectorized = self.vec.fit_transform(feat_list)\n",
    "\t\treturn pos_vectorized\n",
    "\tdef reVectorize(self,feat_list):\n",
    "\t\tpos_vectorized = self.vec.transform(feat_list)\n",
    "\t\treturn pos_vectorized\n",
    "\tdef train_gen(self,x):\n",
    "\t    iterations = []\n",
    "\t    for i in x:\n",
    "\t\t#print\n",
    "\t\tm1 = i[0]\n",
    "\t\tm1.reverse()\n",
    "\t\tx1 = i[1]\n",
    "\t\tx1.reverse()\n",
    "\t\twhile True:\n",
    "\t\t    if len(x1) == 0 and len(m1) == 0:\n",
    "\t\t\tbreak\n",
    "\t\t    temp = []\n",
    "\t\t    temp2 = []\n",
    "\t\t    while True:\n",
    "\t\t\ttry:\n",
    "\t\t\t    temp.append(m1.pop())\n",
    "\t\t\t    #print temp[-1]\n",
    "\t\t\t    if temp[1] == 0:\n",
    "\t\t\t        break\n",
    "\t\t\texcept Exception as e:\n",
    "\t\t\t    break\n",
    "\t\t    while True:\n",
    "\t\t\ttry:\n",
    "\t\t\t    temp2.append(x1.pop())\n",
    "\t\t\t    #print temp2[-1]\n",
    "\t\t\t    if temp2[-1][1] == 0:\n",
    "\t\t\t        break\n",
    "\t\t\texcept Exception as e:\n",
    "\t\t\t    break\n",
    "\t\t    #print len(x1)\n",
    "\t\t    me_str = \"\"\n",
    "\t\t    m_str = \"\" \n",
    "\t\t    for i in temp:\n",
    "\t\t\tme_str += \" \"\n",
    "\t\t\tme_str += i[0]\n",
    "\t\t    for i in temp2:\n",
    "\t\t\tm_str += i[0]\n",
    "\t\t    iterations.append((self.dialogue_act_features(me_str),m_str))\n",
    "\t    x = []\n",
    "\t    y = []\n",
    "\t    for i in iterations:\n",
    "\t    \t  x.append(i[0])\n",
    "\t    \t  y.append(i[1])\n",
    "\t    return_dictionary_buffer = {}\n",
    "\t    return_dictionary_buffer['x'] = x\n",
    "\t    return_dictionary_buffer['y'] = y  \n",
    "\t    return return_dictionary_buffer\n",
    "\n",
    "def dict_builder(y):\n",
    "    count = 0\n",
    "    indexDict = {}\n",
    "    reverseDict = {}\n",
    "    indexList = []\n",
    "    for i in y:\n",
    "        try:\n",
    "            indexList.append(reverseDict[i])\n",
    "        except Exception as e:\n",
    "            indexList.append(count)\n",
    "            reverseDict[i] = count\n",
    "            count += 1\n",
    "    for i in reverseDict:\n",
    "        indexDict[reverseDict[i]] = i\n",
    "    return (indexList,indexDict) \n"
   ]
  },
  {
   "cell_type": "code",
   "execution_count": 64,
   "metadata": {
    "collapsed": true
   },
   "outputs": [],
   "source": [
    "class predictions():\n",
    "    \n",
    "    def __init__(self):\n",
    "        self.vectors = vectorizer()\n",
    "        \n",
    "    #get the vector for predictions\n",
    "    def get_predict_vector(self,string):\n",
    "        return self.vectors.reVectorize(self.vectors.dialogue_act_features(string))\n",
    "    \n",
    "    def get_val_for_index(self,array):\n",
    "        for i in array:\n",
    "            www = self.index_to_val[i]\n",
    "        return www\n",
    "    \n",
    "    def predict(self,string):\n",
    "        vector = self.get_predict_vector(string)\n",
    "        res = self.clf.predict(vector)\n",
    "        return self.get_val_for_index(res)\n",
    "    \n",
    "    def learn(self,x):\n",
    "        temp = self.vectors.train_gen(x)\n",
    "        print temp\n",
    "        X = self.vectors.vectorize(temp['x'])\n",
    "        Y,self.index_to_val = dict_builder(temp['y'])\n",
    "        self.clf = LinearSVC().fit(X, Y)\n",
    "    def learn_from_db(self,x,xy_list):\n",
    "        temp = self.vectors.train_gen(x)\n",
    "        for i in xy_list['x']:\n",
    "            temp['x'].append(self.vectors.dialogue_act_features(i))\n",
    "        for i in xy_list['y']:\n",
    "            temp['y'].append(i)\n",
    "        print temp\n",
    "        X = self.vectors.vectorize(temp['x'])\n",
    "        Y,self.index_to_val = dict_builder(temp['y'])\n",
    "        self.clf = LinearSVC().fit(X, Y)"
   ]
  },
  {
   "cell_type": "code",
   "execution_count": 65,
   "metadata": {
    "collapsed": true
   },
   "outputs": [],
   "source": [
    "vector = predictions()"
   ]
  },
  {
   "cell_type": "code",
   "execution_count": 66,
   "metadata": {
    "collapsed": false
   },
   "outputs": [],
   "source": [
    "ter = {}\n",
    "ter['x'] = ['hey','howdy']\n",
    "ter['y'] =  ['hey','hey']\n",
    "x = [[[[u'save', 0]], []], [[[u'hey', 0]], [[u'hey', 0]]], [[], []], [[[u'hey', 0], [u'I need to fix my hard disk', 0], [u'thanks', 0], [u'bye', 0]], [[u'hey', 0], [u'computer', 0], [u'thankyou', 0], [u'bye', 0]]], [[], []], [[[u'hye', 0], [u'I need to change the color of my room', 0], [u'thankyou', 0], [u'bye', 0]], [[u'hey', 0], [u'paint', 0], [u'thankyou', 0], [u'bye', 0]]], [[[u'hello', 0], [u'I need to hire a painter', 0], [u'thank you so much', 0], [u'bye', 0]], [[u'hey', 0], [u'paint', 0], [u'thankyou', 0], [u'bye', 0]]], [[[u'save', 0]], []], [[[u'hey', 1], [u'I need to find a yoga guru.', 0], [u'how much does he charge?', 0], [u'okay', 0], [u'yes', 0], [u'see you later', 0]], [[u'hey', 0], [u'yoga', 0], [u'price', 0], [u'confirm', 0], [u'positive', 0], [u'bye', 0]]], [[[u'hello', 0], [u'I need someone to clean my house.', 0], [u'How much do I have to pay', 0], [u'that is okay', 0], [u'bye', 0]], [[u'hey', 0], [u'clean', 0], [u'price', 0], [u'confirm', 0], [u'bye', 0]]], [[], []], [[[u'I think my air-conditioner is not working', 0]], [[u'cools', 0]]], [[], []], [[[u'I need to paint of my room', 0], [u'the television in my house is not working', 0], [u'my home theater is giving some problem', 0], [u'my water purifier is not working', 0], [u'I need to make some furniture.', 0], [u'chair', 0], [u'cupboard', 0], [u'wood', 0], [u'table', 0], [u'stand', 0], [u'plug not working in house', 0], [u'My electric sockets are sparking', 0]], [[u'paint', 0], [u'house_app', 0], [u'house_app', 0], [u'house_app', 0], [u'carpy', 0], [u'carpy', 0], [u'carpy', 0], [u'carpy', 0], [u'carpy', 0], [u'carpy', 0], [u'electric', 0], [u'electric', 0]]], [[], []], [[[u'hey', 0], [u'fix my pipes', 0], [u'pipes are leaking', 0], [u'install pipeline', 0], [u'drainage blocked', 0]], [[u'hey', 0], [u'plumb', 0], [u'plumb', 0], [u'plumb', 0], [u'plumb', 0]]], [[], []], [[[u'keyboard mouse harddisk hard disk screen display webcam', 0], [u'hard disk is not working', 0], [u'My laptop is over heating', 0], [u'my keyboard is not working', 0], [u'my mouse is not working', 0], [u'my computer is not turning on', 0]], [[u'computer', 0], [u'computer', 0], [u'computer', 0], [u'computer', 0], [u'computer', 0], [u'computer', 0]]], [[], []], [[[u'My hard disk is broken.', 0]], [[u'computer', 0]]], [[], []]]\n"
   ]
  },
  {
   "cell_type": "code",
   "execution_count": 67,
   "metadata": {
    "collapsed": false
   },
   "outputs": [
    {
     "name": "stdout",
     "output_type": "stream",
     "text": [
      "{'y': ['', u'hey', u'hey', u'computer', u'thankyou', u'bye', u'hey', u'paint', u'thankyou', u'bye', u'hey', u'paint', u'thankyou', u'bye', '', u'hey', u'yoga', u'price', u'confirm', u'positive', u'bye', u'hey', u'clean', u'price', u'confirm', u'bye', u'cools', u'paint', u'house_app', u'house_app', u'house_app', u'carpy', u'carpy', u'carpy', u'carpy', u'carpy', u'carpy', u'electric', u'electric', u'hey', u'plumb', u'plumb', u'plumb', u'plumb', u'computer', u'computer', u'computer', u'computer', u'computer', u'computer', u'computer'], 'x': [{'word(save)': 'VB'}, {}, {}, {'word(disk)': 'NN', 'word(fix)': 'VB', 'word(i)': 'PRP', 'word(hard)': 'JJ', 'word(need)': 'VBP'}, {'word(thank)': 'NNS'}, {'word(bye)': 'VB'}, {'word(hye)': 'NN'}, {'word(room)': 'NN', 'word(color)': 'NN', 'word(i)': 'PRP', 'word(change)': 'NN', 'word(need)': 'VBP'}, {'word(thankyou)': 'PRP'}, {'word(bye)': 'VB'}, {}, {'word(hire)': 'VB', 'word(painter)': 'NN', 'word(i)': 'PRP', 'word(need)': 'MD'}, {'word(thank)': 'NN', 'word(much)': 'RB'}, {'word(bye)': 'VB'}, {'word(save)': 'VB'}, {}, {'word(find)': 'VB', 'word(guru)': 'NN', 'word(yoga)': 'NN', 'word(i)': 'PRP', 'word(need)': 'VBP'}, {'word(charge)': 'NN', 'word(much)': 'JJ'}, {'word(okay)': 'JJ'}, {'word(yes)': 'RB'}, {'word(later)': 'RB', 'word(see)': 'VB'}, {}, {'word(someone)': 'NN', 'word(clean)': 'JJ', 'word(i)': 'PRP', 'word(house)': 'NN', 'word(need)': 'VBP'}, {'word(pay)': 'VBP', 'word(i)': 'PRP', 'word(much)': 'JJ'}, {'word(okay)': 'JJ'}, {'word(bye)': 'VB'}, {'word(think)': 'VBP', 'word(i)': 'PRP', 'word(work)': 'VBG', 'word(air-conditioner)': 'NN'}, {'word(room)': 'NN', 'word(i)': 'PRP', 'word(paint)': 'NN', 'word(need)': 'VBP'}, {'word(television)': 'NN', 'word(house)': 'NN', 'word(working)': 'NN'}, {'word(give)': 'VBG', 'word(problem)': 'NN', 'word(home)': 'NN', 'word(theater)': 'NN'}, {'word(purifier)': 'NN', 'word(water)': 'NN', 'word(working)': 'NN'}, {'word(make)': 'VB', 'word(furniture)': 'NN', 'word(i)': 'PRP', 'word(need)': 'MD'}, {'word(chair)': 'NN'}, {'word(cupboard)': 'NN'}, {'word(wood)': 'NN'}, {'word(table)': 'NN'}, {'word(stand)': 'VBP'}, {'word(working)': 'NN', 'word(house)': 'NN', 'word(plug)': 'NN'}, {'word(electric)': 'JJ', 'word(my)': 'PRP$', 'word(socket)': 'NNS', 'word(spark)': 'VBG'}, {}, {'word(fix)': 'JJ', 'word(pipe)': 'NNS'}, {'word(leak)': 'VBG', 'word(pipe)': 'NNS'}, {'word(pipeline)': 'NN', 'word(install)': 'VB'}, {'word(drainage)': 'NN', 'word(block)': 'VBN'}, {'word(keyboard)': 'NN', 'word(hard)': 'JJ', 'word(screen)': 'NN', 'word(display)': 'NN', 'word(mouse)': 'NN', 'word(harddisk)': 'NN', 'word(disk)': 'NN', 'word(webcam)': 'VBD'}, {'word(work)': 'VBG', 'word(disk)': 'NN', 'word(hard)': 'JJ'}, {'word(laptop)': 'JJ', 'word(heating)': 'NN', 'word(my)': 'PRP$'}, {'word(keyboard)': 'NN', 'word(working)': 'NN'}, {'word(mouse)': 'NN', 'word(working)': 'NN'}, {'word(turn)': 'VBG', 'word(computer)': 'NN'}, {'word(my)': 'PRP$', 'word(disk)': 'NN', 'word(hard)': 'JJ', 'word(break)': 'VBN'}]}\n",
      "{'y': ['', u'hey', u'hey', u'computer', u'thankyou', u'bye', u'hey', u'paint', u'thankyou', u'bye', u'hey', u'paint', u'thankyou', u'bye', '', u'hey', u'yoga', u'price', u'confirm', u'positive', u'bye', u'hey', u'clean', u'price', u'confirm', u'bye', u'cools', u'paint', u'house_app', u'house_app', u'house_app', u'carpy', u'carpy', u'carpy', u'carpy', u'carpy', u'carpy', u'electric', u'electric', u'hey', u'plumb', u'plumb', u'plumb', u'plumb', u'computer', u'computer', u'computer', u'computer', u'computer', u'computer', u'computer', 'hey', 'hey'], 'x': [{'word(save)': 'VB'}, {}, {}, {'word(disk)': 'NN', 'word(fix)': 'VB', 'word(i)': 'PRP', 'word(hard)': 'JJ', 'word(need)': 'VBP'}, {'word(thank)': 'NNS'}, {'word(bye)': 'VB'}, {'word(hye)': 'NN'}, {'word(room)': 'NN', 'word(color)': 'NN', 'word(i)': 'PRP', 'word(change)': 'NN', 'word(need)': 'VBP'}, {'word(thankyou)': 'PRP'}, {'word(bye)': 'VB'}, {}, {'word(hire)': 'VB', 'word(painter)': 'NN', 'word(i)': 'PRP', 'word(need)': 'MD'}, {'word(thank)': 'NN', 'word(much)': 'RB'}, {'word(bye)': 'VB'}, {'word(save)': 'VB'}, {}, {'word(find)': 'VB', 'word(guru)': 'NN', 'word(yoga)': 'NN', 'word(i)': 'PRP', 'word(need)': 'VBP'}, {'word(charge)': 'NN', 'word(much)': 'JJ'}, {'word(okay)': 'JJ'}, {'word(yes)': 'RB'}, {'word(later)': 'RB', 'word(see)': 'VB'}, {}, {'word(someone)': 'NN', 'word(clean)': 'JJ', 'word(i)': 'PRP', 'word(house)': 'NN', 'word(need)': 'VBP'}, {'word(pay)': 'VBP', 'word(i)': 'PRP', 'word(much)': 'JJ'}, {'word(okay)': 'JJ'}, {'word(bye)': 'VB'}, {'word(think)': 'VBP', 'word(i)': 'PRP', 'word(work)': 'VBG', 'word(air-conditioner)': 'NN'}, {'word(room)': 'NN', 'word(i)': 'PRP', 'word(paint)': 'NN', 'word(need)': 'VBP'}, {'word(television)': 'NN', 'word(house)': 'NN', 'word(working)': 'NN'}, {'word(give)': 'VBG', 'word(problem)': 'NN', 'word(home)': 'NN', 'word(theater)': 'NN'}, {'word(purifier)': 'NN', 'word(water)': 'NN', 'word(working)': 'NN'}, {'word(make)': 'VB', 'word(furniture)': 'NN', 'word(i)': 'PRP', 'word(need)': 'MD'}, {'word(chair)': 'NN'}, {'word(cupboard)': 'NN'}, {'word(wood)': 'NN'}, {'word(table)': 'NN'}, {'word(stand)': 'VBP'}, {'word(working)': 'NN', 'word(house)': 'NN', 'word(plug)': 'NN'}, {'word(electric)': 'JJ', 'word(my)': 'PRP$', 'word(socket)': 'NNS', 'word(spark)': 'VBG'}, {}, {'word(fix)': 'JJ', 'word(pipe)': 'NNS'}, {'word(leak)': 'VBG', 'word(pipe)': 'NNS'}, {'word(pipeline)': 'NN', 'word(install)': 'VB'}, {'word(drainage)': 'NN', 'word(block)': 'VBN'}, {'word(keyboard)': 'NN', 'word(hard)': 'JJ', 'word(screen)': 'NN', 'word(display)': 'NN', 'word(mouse)': 'NN', 'word(harddisk)': 'NN', 'word(disk)': 'NN', 'word(webcam)': 'VBD'}, {'word(work)': 'VBG', 'word(disk)': 'NN', 'word(hard)': 'JJ'}, {'word(laptop)': 'JJ', 'word(heating)': 'NN', 'word(my)': 'PRP$'}, {'word(keyboard)': 'NN', 'word(working)': 'NN'}, {'word(mouse)': 'NN', 'word(working)': 'NN'}, {'word(turn)': 'VBG', 'word(computer)': 'NN'}, {'word(my)': 'PRP$', 'word(disk)': 'NN', 'word(hard)': 'JJ', 'word(break)': 'VBN'}, {}, {}]}\n"
     ]
    }
   ],
   "source": [
    "\n",
    "vector.learn(x)\n",
    "\n",
    "x = [[[[u'save', 0]], []], [[[u'hey', 0]], [[u'hey', 0]]], [[], []], [[[u'hey', 0], [u'I need to fix my hard disk', 0], [u'thanks', 0], [u'bye', 0]], [[u'hey', 0], [u'computer', 0], [u'thankyou', 0], [u'bye', 0]]], [[], []], [[[u'hye', 0], [u'I need to change the color of my room', 0], [u'thankyou', 0], [u'bye', 0]], [[u'hey', 0], [u'paint', 0], [u'thankyou', 0], [u'bye', 0]]], [[[u'hello', 0], [u'I need to hire a painter', 0], [u'thank you so much', 0], [u'bye', 0]], [[u'hey', 0], [u'paint', 0], [u'thankyou', 0], [u'bye', 0]]], [[[u'save', 0]], []], [[[u'hey', 1], [u'I need to find a yoga guru.', 0], [u'how much does he charge?', 0], [u'okay', 0], [u'yes', 0], [u'see you later', 0]], [[u'hey', 0], [u'yoga', 0], [u'price', 0], [u'confirm', 0], [u'positive', 0], [u'bye', 0]]], [[[u'hello', 0], [u'I need someone to clean my house.', 0], [u'How much do I have to pay', 0], [u'that is okay', 0], [u'bye', 0]], [[u'hey', 0], [u'clean', 0], [u'price', 0], [u'confirm', 0], [u'bye', 0]]], [[], []], [[[u'I think my air-conditioner is not working', 0]], [[u'cools', 0]]], [[], []], [[[u'I need to paint of my room', 0], [u'the television in my house is not working', 0], [u'my home theater is giving some problem', 0], [u'my water purifier is not working', 0], [u'I need to make some furniture.', 0], [u'chair', 0], [u'cupboard', 0], [u'wood', 0], [u'table', 0], [u'stand', 0], [u'plug not working in house', 0], [u'My electric sockets are sparking', 0]], [[u'paint', 0], [u'house_app', 0], [u'house_app', 0], [u'house_app', 0], [u'carpy', 0], [u'carpy', 0], [u'carpy', 0], [u'carpy', 0], [u'carpy', 0], [u'carpy', 0], [u'electric', 0], [u'electric', 0]]], [[], []], [[[u'hey', 0], [u'fix my pipes', 0], [u'pipes are leaking', 0], [u'install pipeline', 0], [u'drainage blocked', 0]], [[u'hey', 0], [u'plumb', 0], [u'plumb', 0], [u'plumb', 0], [u'plumb', 0]]], [[], []], [[[u'keyboard mouse harddisk hard disk screen display webcam', 0], [u'hard disk is not working', 0], [u'My laptop is over heating', 0], [u'my keyboard is not working', 0], [u'my mouse is not working', 0], [u'my computer is not turning on', 0]], [[u'computer', 0], [u'computer', 0], [u'computer', 0], [u'computer', 0], [u'computer', 0], [u'computer', 0]]], [[], []], [[[u'My hard disk is broken.', 0]], [[u'computer', 0]]], [[], []]]\n",
    "\n",
    "vector.learn_from_db(x,ter)"
   ]
  },
  {
   "cell_type": "code",
   "execution_count": 68,
   "metadata": {
    "collapsed": true
   },
   "outputs": [],
   "source": [
    "temp = {'y': ['', u'hey', u'hey', u'computer', u'thankyou', u'bye', u'hey', u'paint', u'thankyou', u'bye', u'hey', u'paint', u'thankyou', u'bye', '', u'hey', u'yoga', u'price', u'confirm', u'positive', u'bye', u'hey', u'clean', u'price', u'confirm', u'bye', u'cools', u'paint', u'house_app', u'house_app', u'house_app', u'carpy', u'carpy', u'carpy', u'carpy', u'carpy', u'carpy', u'electric', u'electric', u'hey', u'plumb', u'plumb', u'plumb', u'plumb', u'computer', u'computer', u'computer', u'computer', u'computer', u'computer', u'computer', 'hey', 'hey'], 'x': [{'word(save)': 'VB'}, {}, {}, {'word(disk)': 'NN', 'word(fix)': 'VB', 'word(i)': 'PRP', 'word(hard)': 'JJ', 'word(need)': 'VBP'}, {'word(thank)': 'NNS'}, {'word(bye)': 'VB'}, {'word(hye)': 'NN'}, {'word(room)': 'NN', 'word(color)': 'NN', 'word(i)': 'PRP', 'word(change)': 'NN', 'word(need)': 'VBP'}, {'word(thankyou)': 'PRP'}, {'word(bye)': 'VB'}, {}, {'word(hire)': 'VB', 'word(painter)': 'NN', 'word(i)': 'PRP', 'word(need)': 'MD'}, {'word(thank)': 'NN', 'word(much)': 'RB'}, {'word(bye)': 'VB'}, {'word(save)': 'VB'}, {}, {'word(find)': 'VB', 'word(guru)': 'NN', 'word(yoga)': 'NN', 'word(i)': 'PRP', 'word(need)': 'VBP'}, {'word(charge)': 'NN', 'word(much)': 'JJ'}, {'word(okay)': 'JJ'}, {'word(yes)': 'RB'}, {'word(later)': 'RB', 'word(see)': 'VB'}, {}, {'word(someone)': 'NN', 'word(clean)': 'JJ', 'word(i)': 'PRP', 'word(house)': 'NN', 'word(need)': 'VBP'}, {'word(pay)': 'VBP', 'word(i)': 'PRP', 'word(much)': 'JJ'}, {'word(okay)': 'JJ'}, {'word(bye)': 'VB'}, {'word(think)': 'VBP', 'word(i)': 'PRP', 'word(work)': 'VBG', 'word(air-conditioner)': 'NN'}, {'word(room)': 'NN', 'word(i)': 'PRP', 'word(paint)': 'NN', 'word(need)': 'VBP'}, {'word(television)': 'NN', 'word(house)': 'NN', 'word(working)': 'NN'}, {'word(give)': 'VBG', 'word(problem)': 'NN', 'word(home)': 'NN', 'word(theater)': 'NN'}, {'word(purifier)': 'NN', 'word(water)': 'NN', 'word(working)': 'NN'}, {'word(make)': 'VB', 'word(furniture)': 'NN', 'word(i)': 'PRP', 'word(need)': 'MD'}, {'word(chair)': 'NN'}, {'word(cupboard)': 'NN'}, {'word(wood)': 'NN'}, {'word(table)': 'NN'}, {'word(stand)': 'VBP'}, {'word(working)': 'NN', 'word(house)': 'NN', 'word(plug)': 'NN'}, {'word(electric)': 'JJ', 'word(my)': 'PRP$', 'word(socket)': 'NNS', 'word(spark)': 'VBG'}, {}, {'word(fix)': 'JJ', 'word(pipe)': 'NNS'}, {'word(leak)': 'VBG', 'word(pipe)': 'NNS'}, {'word(pipeline)': 'NN', 'word(install)': 'VB'}, {'word(drainage)': 'NN', 'word(block)': 'VBN'}, {'word(keyboard)': 'NN', 'word(hard)': 'JJ', 'word(screen)': 'NN', 'word(display)': 'NN', 'word(mouse)': 'NN', 'word(harddisk)': 'NN', 'word(disk)': 'NN', 'word(webcam)': 'VBD'}, {'word(work)': 'VBG', 'word(disk)': 'NN', 'word(hard)': 'JJ'}, {'word(laptop)': 'JJ', 'word(heating)': 'NN', 'word(my)': 'PRP$'}, {'word(keyboard)': 'NN', 'word(working)': 'NN'}, {'word(mouse)': 'NN', 'word(working)': 'NN'}, {'word(turn)': 'VBG', 'word(computer)': 'NN'}, {'word(my)': 'PRP$', 'word(disk)': 'NN', 'word(hard)': 'JJ', 'word(break)': 'VBN'}, 'hey', 'howdy']}"
   ]
  },
  {
   "cell_type": "code",
   "execution_count": 72,
   "metadata": {
    "collapsed": false
   },
   "outputs": [
    {
     "name": "stdout",
     "output_type": "stream",
     "text": [
      "[u'plumb', u'computer', u'computer', u'computer', u'computer', u'computer', u'computer', u'computer', 'hey']\n"
     ]
    }
   ],
   "source": [
    "print temp['y'][-10:-1]"
   ]
  },
  {
   "cell_type": "code",
   "execution_count": null,
   "metadata": {
    "collapsed": true
   },
   "outputs": [],
   "source": []
  }
 ],
 "metadata": {
  "kernelspec": {
   "display_name": "Python 2",
   "language": "python",
   "name": "python2"
  },
  "language_info": {
   "codemirror_mode": {
    "name": "ipython",
    "version": 2
   },
   "file_extension": ".py",
   "mimetype": "text/x-python",
   "name": "python",
   "nbconvert_exporter": "python",
   "pygments_lexer": "ipython2",
   "version": "2.7.6"
  }
 },
 "nbformat": 4,
 "nbformat_minor": 0
}
